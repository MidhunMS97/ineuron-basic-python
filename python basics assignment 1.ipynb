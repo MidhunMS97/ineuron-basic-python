{
 "cells": [
  {
   "cell_type": "markdown",
   "id": "0d963ffc-84e6-4ea5-b775-daf62573cefb",
   "metadata": {},
   "source": [
    "1. In the below elements which of them are values or an expression? "
   ]
  },
  {
   "cell_type": "markdown",
   "id": "e824df3c-4a65-4b16-91e4-ff6553a2fff6",
   "metadata": {},
   "source": [
    "values  = 'hello' , -87.8\n",
    "expressions = * , / , + , -"
   ]
  },
  {
   "cell_type": "markdown",
   "id": "cddfafb6-f7b9-43c2-8e61-2240f6f41172",
   "metadata": {},
   "source": []
  },
  {
   "cell_type": "markdown",
   "id": "3782c33f-5fa9-4f68-9a84-2e493c0ce2bf",
   "metadata": {},
   "source": [
    "2. What is the difference between string and variable?"
   ]
  },
  {
   "cell_type": "markdown",
   "id": "d1b59247-4e37-42d9-aac6-0093dae2590e",
   "metadata": {},
   "source": [
    "a variable is where we store an information and the string is what we store in the variable\n",
    "\n",
    "m = 'midhun'       m is the variable and 'midhun' is the string"
   ]
  },
  {
   "cell_type": "code",
   "execution_count": null,
   "id": "8a852f22-0bff-4956-b7c5-73e7802bca9e",
   "metadata": {},
   "outputs": [],
   "source": []
  },
  {
   "cell_type": "markdown",
   "id": "389090c6-4540-4e75-ac0d-59378f795b8f",
   "metadata": {},
   "source": [
    "3. Describe three different data types."
   ]
  },
  {
   "cell_type": "markdown",
   "id": "73413ee1-5afe-4e53-97a0-868e84a4d20d",
   "metadata": {},
   "source": [
    ". dictionary- it is a unorderd collection of data where we can assigh a key and a value,like a map. {'m' : 'midhun'}\n",
    "\n",
    ". string - the string can be consisting of one or more charector or number which are put in a single quote or a double quote\n",
    "\n",
    ".list - its a mutable endity with an ordered collection of data, and the items in the list can be of different types."
   ]
  },
  {
   "cell_type": "code",
   "execution_count": null,
   "id": "6dac77e9-ea34-41ed-b1de-b80af251b794",
   "metadata": {},
   "outputs": [],
   "source": []
  },
  {
   "cell_type": "markdown",
   "id": "4420229d-aed0-4d73-91ef-a84eba460dd2",
   "metadata": {},
   "source": [
    "4. What is an expression made up of? What do all expressions do?"
   ]
  },
  {
   "cell_type": "markdown",
   "id": "32995372-e7dc-4a9f-9805-9ae1c2c9ce56",
   "metadata": {},
   "source": [
    "expression is made of different operators like + ,< , * , - etc. these all combinly or along assist in producing a new new value according to our use."
   ]
  },
  {
   "cell_type": "code",
   "execution_count": null,
   "id": "df26c883-7d61-475b-8c5f-5519964b2813",
   "metadata": {},
   "outputs": [],
   "source": []
  },
  {
   "cell_type": "markdown",
   "id": "bdc0c776-f0e2-4732-a373-334698dd0a30",
   "metadata": {},
   "source": [
    "7. What should the values of the following two terms be?"
   ]
  },
  {
   "cell_type": "code",
   "execution_count": 3,
   "id": "743d2de3-f3b4-45d4-b504-ee7c335b0d1b",
   "metadata": {},
   "outputs": [
    {
     "data": {
      "text/plain": [
       "'spamspamspam'"
      ]
     },
     "execution_count": 3,
     "metadata": {},
     "output_type": "execute_result"
    }
   ],
   "source": [
    "'spam' + 'spamspam'\n"
   ]
  },
  {
   "cell_type": "code",
   "execution_count": 5,
   "id": "6e46eec9-1b0a-48a9-bc0d-b2611518f625",
   "metadata": {},
   "outputs": [
    {
     "data": {
      "text/plain": [
       "'spamspamspam'"
      ]
     },
     "execution_count": 5,
     "metadata": {},
     "output_type": "execute_result"
    }
   ],
   "source": [
    "'spam'*3"
   ]
  },
  {
   "cell_type": "code",
   "execution_count": null,
   "id": "cadfe213-f7aa-4f6f-914e-b3553463889f",
   "metadata": {},
   "outputs": [],
   "source": []
  },
  {
   "cell_type": "markdown",
   "id": "e3476ff0-6953-41b6-aa6e-428d17948dd6",
   "metadata": {},
   "source": [
    "8. Why is eggs a valid variable name while 100 is invalid?"
   ]
  },
  {
   "cell_type": "markdown",
   "id": "54265abe-0556-475a-8885-3a650419b375",
   "metadata": {},
   "source": [
    "a variable name can be of a single or multiple alphabets of numbers, but the variable should not start with a number, if it starts with a number it will become a syntax error, if the variable should be started with a number, then we should use either'' or \"\"."
   ]
  },
  {
   "cell_type": "code",
   "execution_count": 8,
   "id": "9653c621-04b2-460f-acb9-37b69cba6868",
   "metadata": {},
   "outputs": [],
   "source": []
  },
  {
   "cell_type": "markdown",
   "id": "d472a730-3e0e-4fee-9f72-aedaa285b5bc",
   "metadata": {},
   "source": [
    "9. What three functions can be used to get the integer, floating-point number, or string\n",
    "version of a value?"
   ]
  },
  {
   "cell_type": "markdown",
   "id": "ceee8312-1a62-49b6-92df-c9e691f23dd6",
   "metadata": {},
   "source": [
    "integer         int()  ,\n",
    "floating point  float()  ,\n",
    "string          str()"
   ]
  },
  {
   "cell_type": "code",
   "execution_count": null,
   "id": "42675bc4-1aeb-4843-a2e1-e3a46ec26d21",
   "metadata": {},
   "outputs": [],
   "source": []
  },
  {
   "cell_type": "markdown",
   "id": "5b008227-471b-4dc5-ba26-d1881b73840e",
   "metadata": {},
   "source": [
    "10. Why does this expression cause an error? How can you fix it?\n",
    "'I have eaten' + 99 +  'burritos'"
   ]
  },
  {
   "cell_type": "code",
   "execution_count": 13,
   "id": "f78ae2a2-5acf-43e2-80f0-3a684b28537e",
   "metadata": {},
   "outputs": [
    {
     "data": {
      "text/plain": [
       "'I have eaten 99 burritos'"
      ]
     },
     "execution_count": 13,
     "metadata": {},
     "output_type": "execute_result"
    }
   ],
   "source": [
    "'I have eaten' + ' 99 ' +  'burritos'"
   ]
  },
  {
   "cell_type": "markdown",
   "id": "533aa019-0f58-4780-b65e-3792ce81e9fb",
   "metadata": {},
   "source": [
    "we can only add str to str."
   ]
  }
 ],
 "metadata": {
  "kernelspec": {
   "display_name": "Python 3 (ipykernel)",
   "language": "python",
   "name": "python3"
  },
  "language_info": {
   "codemirror_mode": {
    "name": "ipython",
    "version": 3
   },
   "file_extension": ".py",
   "mimetype": "text/x-python",
   "name": "python",
   "nbconvert_exporter": "python",
   "pygments_lexer": "ipython3",
   "version": "3.10.6"
  }
 },
 "nbformat": 4,
 "nbformat_minor": 5
}
