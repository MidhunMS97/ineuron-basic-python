{
 "cells": [
  {
   "cell_type": "markdown",
   "id": "3e21749e-38e3-45fd-b2af-2c14b824f88b",
   "metadata": {},
   "source": [
    "1.What are the two values of the Boolean data type? How do you write them?"
   ]
  },
  {
   "cell_type": "markdown",
   "id": "6e4e223d-e881-4f00-964e-915b98492d26",
   "metadata": {},
   "source": [
    "the two types are True and False , like 1 and 0. 1 is true and 0 is false."
   ]
  },
  {
   "cell_type": "markdown",
   "id": "40b4212b-968b-453b-ae2d-d7a8435ce40f",
   "metadata": {},
   "source": []
  },
  {
   "cell_type": "markdown",
   "id": "ccbb5a6a-b00b-4945-872a-4b7337ea78c9",
   "metadata": {},
   "source": [
    "2. What are the three different types of Boolean operators?"
   ]
  },
  {
   "cell_type": "markdown",
   "id": "ab6f25b7-d01e-4aad-9467-f168fefe1a7e",
   "metadata": {},
   "source": [
    "\"and\" , \"or\" , \"not\""
   ]
  },
  {
   "cell_type": "markdown",
   "id": "f4b5e909-3c77-4270-82fe-3cf8c916445f",
   "metadata": {},
   "source": []
  },
  {
   "cell_type": "markdown",
   "id": "b6937791-245e-4823-aab9-d8e777c2eb29",
   "metadata": {},
   "source": [
    "3. Make a list of each Boolean operator's truth tables (i.e. every possible combination of Boolean\n",
    "values for the operator and what it evaluate )."
   ]
  },
  {
   "cell_type": "markdown",
   "id": "993604f1-54c0-4e4f-a188-7836ef3df676",
   "metadata": {},
   "source": [
    "not x  x'\n",
    "    0  1\n",
    "    1  0"
   ]
  },
  {
   "cell_type": "markdown",
   "id": "5214c330-41a4-4a07-ae2a-b6b643844dfe",
   "metadata": {},
   "source": [
    "and x y  xy\n",
    "    0 0  0\n",
    "    0 1  0\n",
    "    1 0  0\n",
    "    1 1  1"
   ]
  },
  {
   "cell_type": "markdown",
   "id": "298b62fe-f02f-4458-b2f1-329c10ebbb82",
   "metadata": {},
   "source": [
    "or  x y  x+y\n",
    "    0 0   0\n",
    "    0 1   1\n",
    "    1 0   1\n",
    "    1 1   1"
   ]
  },
  {
   "cell_type": "markdown",
   "id": "fd7ff07d-7baa-42cd-bec5-422a86a75351",
   "metadata": {},
   "source": []
  },
  {
   "cell_type": "markdown",
   "id": "277de7ed-c707-4090-953c-4e1354f807ec",
   "metadata": {},
   "source": [
    "4. What are the values of the following expressions?"
   ]
  },
  {
   "cell_type": "code",
   "execution_count": 8,
   "id": "332acce5-df5a-463d-8a1b-0448c6508a3e",
   "metadata": {},
   "outputs": [
    {
     "data": {
      "text/plain": [
       "False"
      ]
     },
     "execution_count": 8,
     "metadata": {},
     "output_type": "execute_result"
    }
   ],
   "source": [
    "(5>4) and (3==5)"
   ]
  },
  {
   "cell_type": "code",
   "execution_count": 9,
   "id": "a7edb638-5d0d-4377-b390-85684c2ae7de",
   "metadata": {},
   "outputs": [
    {
     "data": {
      "text/plain": [
       "False"
      ]
     },
     "execution_count": 9,
     "metadata": {},
     "output_type": "execute_result"
    }
   ],
   "source": [
    "not(5>4)"
   ]
  },
  {
   "cell_type": "code",
   "execution_count": 10,
   "id": "104718c1-af14-4b68-a49b-20f146e8170f",
   "metadata": {},
   "outputs": [
    {
     "data": {
      "text/plain": [
       "True"
      ]
     },
     "execution_count": 10,
     "metadata": {},
     "output_type": "execute_result"
    }
   ],
   "source": [
    "(5>4) or (3==5)"
   ]
  },
  {
   "cell_type": "code",
   "execution_count": 11,
   "id": "8a58d344-8279-4471-8dcc-adaa3f037a8d",
   "metadata": {},
   "outputs": [
    {
     "data": {
      "text/plain": [
       "False"
      ]
     },
     "execution_count": 11,
     "metadata": {},
     "output_type": "execute_result"
    }
   ],
   "source": [
    "not((5>4) or (3==5))"
   ]
  },
  {
   "cell_type": "code",
   "execution_count": 13,
   "id": "15313db8-1144-41c6-8928-cd8bd372e6dc",
   "metadata": {},
   "outputs": [
    {
     "data": {
      "text/plain": [
       "False"
      ]
     },
     "execution_count": 13,
     "metadata": {},
     "output_type": "execute_result"
    }
   ],
   "source": [
    "(True and False) and (True  == False)"
   ]
  },
  {
   "cell_type": "markdown",
   "id": "e7aa1236-2695-4bb7-84e6-989059c677a4",
   "metadata": {},
   "source": [
    "(not False) or (not True)"
   ]
  },
  {
   "cell_type": "markdown",
   "id": "356beb23-6e1c-46c0-b665-b935dab045c4",
   "metadata": {},
   "source": []
  },
  {
   "cell_type": "raw",
   "id": "27ac42e9-5932-452c-9f63-4b3341d692e4",
   "metadata": {},
   "source": []
  },
  {
   "cell_type": "raw",
   "id": "91267030-0505-4390-9e1d-8457a6f0c1ef",
   "metadata": {},
   "source": [
    "5. What are the six comparison operators?"
   ]
  },
  {
   "cell_type": "markdown",
   "id": "56df6208-41dd-44b3-a8e5-a9e8c65787b2",
   "metadata": {},
   "source": [
    "equal  == \n",
    "not equal  !=\n",
    "greater than >\n",
    "lesser than  <\n",
    "greater than or equal to  >=\n",
    "lesser tha or equal to    <="
   ]
  },
  {
   "cell_type": "code",
   "execution_count": null,
   "id": "96ff8f0f-4e40-4a14-8599-d6964476cc63",
   "metadata": {},
   "outputs": [],
   "source": []
  },
  {
   "cell_type": "markdown",
   "id": "b56d74fb-1a27-4b79-9c54-983d13393231",
   "metadata": {},
   "source": [
    "6. How do you tell the difference between the equal to and assignment operators?Describe a\n",
    "condition and when you would use one."
   ]
  },
  {
   "cell_type": "markdown",
   "id": "d1925347-0b72-4dab-9768-9698a65095af",
   "metadata": {},
   "source": [
    "equal to is represented by two == and assignment by 1 =\n"
   ]
  },
  {
   "cell_type": "code",
   "execution_count": 21,
   "id": "ec22b780-505c-4e9b-9ddc-4ca6f25376ed",
   "metadata": {},
   "outputs": [
    {
     "data": {
      "text/plain": [
       "True"
      ]
     },
     "execution_count": 21,
     "metadata": {},
     "output_type": "execute_result"
    }
   ],
   "source": [
    "m =  \"midhun\"\n",
    "b = \"midhun\"\n",
    "m == b"
   ]
  },
  {
   "cell_type": "markdown",
   "id": "5de38b94-ce2a-4c28-b2a9-4e707e77bd8b",
   "metadata": {},
   "source": []
  },
  {
   "cell_type": "markdown",
   "id": "293f13af-7819-4467-b541-6159d6512f81",
   "metadata": {},
   "source": [
    "7. Identify the three blocks in this code:"
   ]
  },
  {
   "cell_type": "code",
   "execution_count": 24,
   "id": "af462ee8-5b0f-4a51-92ca-7237568d32e0",
   "metadata": {},
   "outputs": [
    {
     "name": "stdout",
     "output_type": "stream",
     "text": [
      "ham\n",
      "spam\n",
      "spam\n"
     ]
    }
   ],
   "source": [
    "spam = 0\n",
    "if spam ==10:\n",
    "    print('eggs')\n",
    "if spam > 5:\n",
    "        print('bacon')\n",
    "else :\n",
    "        print('ham')\n",
    "        print('spam')\n",
    "        print('spam')"
   ]
  },
  {
   "cell_type": "markdown",
   "id": "ab1ac5eb-051b-42fe-9a93-10738c4555f6",
   "metadata": {},
   "source": []
  },
  {
   "cell_type": "markdown",
   "id": "ba12baeb-2ea0-42f7-be9d-aaf952a7676d",
   "metadata": {},
   "source": [
    "8. Write code that prints Hello if 1 is stored in spam, prints Howdy if 2 is stored in spam, and prints\n",
    "Greetings! if anything else is stored in spam."
   ]
  },
  {
   "cell_type": "code",
   "execution_count": 31,
   "id": "1a741e45-f9ff-4996-9904-553c87a64658",
   "metadata": {},
   "outputs": [
    {
     "name": "stdin",
     "output_type": "stream",
     "text": [
      " 1\n"
     ]
    },
    {
     "name": "stdout",
     "output_type": "stream",
     "text": [
      "Hello\n"
     ]
    }
   ],
   "source": [
    "spam = input()\n",
    "if spam == '1' :\n",
    "    print(\"Hello\")\n",
    "elif spam == '2' :\n",
    "    print(\"Howdy\")\n",
    "else :\n",
    "    print(\"Greetings\")"
   ]
  },
  {
   "cell_type": "markdown",
   "id": "640fa1a4-f388-4f21-b1c0-048dc2692ec1",
   "metadata": {},
   "source": []
  },
  {
   "cell_type": "markdown",
   "id": "13881289-ea45-47dc-a19e-e26e93629d73",
   "metadata": {},
   "source": [
    "9.If your programme is stuck in an endless loop, what keys you’ll press?"
   ]
  },
  {
   "cell_type": "markdown",
   "id": "cb3821b0-6868-43cc-892a-a3a9f17077d0",
   "metadata": {},
   "source": [
    "Interrupt the kernel"
   ]
  },
  {
   "cell_type": "markdown",
   "id": "ef4ae7e2-ef9c-4b55-9bf5-e4dd0c26a193",
   "metadata": {},
   "source": []
  },
  {
   "cell_type": "markdown",
   "id": "20db337d-bcc2-43ad-966c-d9d5201f09e5",
   "metadata": {},
   "source": [
    "10. How can you tell the difference between break and continue?"
   ]
  },
  {
   "cell_type": "markdown",
   "id": "c6ba8d8b-50ca-45eb-88be-5857901cd94e",
   "metadata": {},
   "source": [
    "both are used to skip an iteration, but break will end the loop where as continue will skip that current iteration"
   ]
  },
  {
   "cell_type": "markdown",
   "id": "79037bd9-b97c-4b3f-8395-bb493f8730e8",
   "metadata": {},
   "source": []
  },
  {
   "cell_type": "markdown",
   "id": "08963f1f-e153-4bbe-9608-5d5fdb539938",
   "metadata": {},
   "source": [
    "11. In a for loop, what is the difference between range(10), range(0, 10), and range(0, 10, 1)?"
   ]
  },
  {
   "cell_type": "code",
   "execution_count": 33,
   "id": "59c5e62a-5ac3-45a9-8bf1-2a39cb60523b",
   "metadata": {},
   "outputs": [
    {
     "data": {
      "text/plain": [
       "range(0, 10)"
      ]
     },
     "execution_count": 33,
     "metadata": {},
     "output_type": "execute_result"
    }
   ],
   "source": [
    "range(10)\n",
    "#it will start from 0 to 10 but will not include 10, with a jump size of 1"
   ]
  },
  {
   "cell_type": "code",
   "execution_count": 34,
   "id": "a5727035-7b31-4394-921e-41fb2d8c5740",
   "metadata": {},
   "outputs": [
    {
     "data": {
      "text/plain": [
       "range(0, 10)"
      ]
     },
     "execution_count": 34,
     "metadata": {},
     "output_type": "execute_result"
    }
   ],
   "source": [
    "range(0,10)\n",
    "#same as range(10) , but the lower bountary is mentioned"
   ]
  },
  {
   "cell_type": "code",
   "execution_count": 35,
   "id": "643e01e8-722f-4921-9cf3-def654ef54de",
   "metadata": {},
   "outputs": [
    {
     "data": {
      "text/plain": [
       "range(0, 10)"
      ]
     },
     "execution_count": 35,
     "metadata": {},
     "output_type": "execute_result"
    }
   ],
   "source": [
    "range(0,10,1)\n",
    "#here all details like, lower , higher boundary and jump size are mentioned. "
   ]
  },
  {
   "cell_type": "markdown",
   "id": "d8ac7882-8a8a-4723-9c0d-a422285fb5bf",
   "metadata": {},
   "source": []
  },
  {
   "cell_type": "markdown",
   "id": "65e7ae88-93e7-4aff-b5ac-537ee36406f6",
   "metadata": {},
   "source": [
    "12. Write a short program that prints the numbers 1 to 10 using a for loop. Then write an equivalent\n",
    "program that prints the numbers 1 to 10 using a while loop."
   ]
  },
  {
   "cell_type": "code",
   "execution_count": 38,
   "id": "3b5c5130-f28c-4586-b01a-381176e4f413",
   "metadata": {},
   "outputs": [
    {
     "name": "stdout",
     "output_type": "stream",
     "text": [
      "1\n",
      "2\n",
      "3\n",
      "4\n",
      "5\n",
      "6\n",
      "7\n",
      "8\n",
      "9\n",
      "10\n"
     ]
    }
   ],
   "source": [
    "a = 11\n",
    "for i in range(1 ,a) :\n",
    "    print(i)"
   ]
  },
  {
   "cell_type": "code",
   "execution_count": 39,
   "id": "81368f72-2d63-44e0-923e-95a7ccb69ae4",
   "metadata": {},
   "outputs": [
    {
     "name": "stdout",
     "output_type": "stream",
     "text": [
      "1\n",
      "2\n",
      "3\n",
      "4\n",
      "5\n",
      "6\n",
      "7\n",
      "8\n",
      "9\n",
      "10\n"
     ]
    }
   ],
   "source": [
    "a = 1\n",
    "while a <= 10 :\n",
    "    print(a)\n",
    "    a = a + 1"
   ]
  },
  {
   "cell_type": "markdown",
   "id": "cbd7b24d-a5cc-490d-84fc-ee194535901a",
   "metadata": {},
   "source": []
  },
  {
   "cell_type": "markdown",
   "id": "b804068d-f44b-45d5-ad90-2e61422207f8",
   "metadata": {},
   "source": [
    "13. If you had a function named bacon() inside a module named spam, how would you call it after\n",
    "importing spam?"
   ]
  },
  {
   "cell_type": "code",
   "execution_count": 40,
   "id": "d9e95e1f-96fa-426d-9e05-130ed0ffaf51",
   "metadata": {},
   "outputs": [
    {
     "ename": "AttributeError",
     "evalue": "'str' object has no attribute 'bacon'",
     "output_type": "error",
     "traceback": [
      "\u001b[0;31m---------------------------------------------------------------------------\u001b[0m",
      "\u001b[0;31mAttributeError\u001b[0m                            Traceback (most recent call last)",
      "Cell \u001b[0;32mIn [40], line 1\u001b[0m\n\u001b[0;32m----> 1\u001b[0m \u001b[43mspam\u001b[49m\u001b[38;5;241;43m.\u001b[39;49m\u001b[43mbacon\u001b[49m()\n",
      "\u001b[0;31mAttributeError\u001b[0m: 'str' object has no attribute 'bacon'"
     ]
    }
   ],
   "source": [
    "spam "
   ]
  },
  {
   "cell_type": "code",
   "execution_count": null,
   "id": "5443a754-084e-46be-97c4-5aa3f97cb882",
   "metadata": {},
   "outputs": [],
   "source": []
  }
 ],
 "metadata": {
  "kernelspec": {
   "display_name": "Python 3 (ipykernel)",
   "language": "python",
   "name": "python3"
  },
  "language_info": {
   "codemirror_mode": {
    "name": "ipython",
    "version": 3
   },
   "file_extension": ".py",
   "mimetype": "text/x-python",
   "name": "python",
   "nbconvert_exporter": "python",
   "pygments_lexer": "ipython3",
   "version": "3.10.6"
  }
 },
 "nbformat": 4,
 "nbformat_minor": 5
}
